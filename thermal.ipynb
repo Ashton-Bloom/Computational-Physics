{
 "cells": [
  {
   "cell_type": "code",
   "execution_count": 53,
   "metadata": {},
   "outputs": [
    {
     "data": {
      "text/plain": [
       "<matplotlib.contour.QuadContourSet at 0x13fadfb6fa0>"
      ]
     },
     "execution_count": 53,
     "metadata": {},
     "output_type": "execute_result"
    },
    {
     "data": {
      "image/png": "[encoded data removed]",
      "text/plain": [
       "<Figure size 432x288 with 1 Axes>"
      ]
     },
     "metadata": {
      "needs_background": "light"
     },
     "output_type": "display_data"
    }
   ],
   "source": [
    "import numpy as np\n",
    "import matplotlib.pyplot as plt\n",
    "\n",
    "Nt = 300\n",
    "Nx = 100\n",
    "delta_x = 0.03\n",
    "delta_t = 0.9\n",
    "K = 210\n",
    "C = 900\n",
    "rho = 2700\n",
    "nu = (K/(C*rho))*(delta_t/delta_x**2)\n",
    "\n",
    "T = np.zeros((Nx, Nt))\n",
    "T[0,:] = 0\n",
    "T[Nx-1,:] = 0\n",
    "T[1:Nx-2,0] = 100\n",
    "\n",
    "for ti in np.arange(Nt-1):\n",
    "    for xi in np.arange(1,Nx-2):\n",
    "        T[xi,ti+1] = T[xi,ti] + nu*(T[xi+1,ti] + T[xi-1,ti] - 2*T[xi,ti])\n",
    "\n",
    "\n",
    "x = np.arange(Nx)*delta_x\n",
    "t = np.arange(Nt)*delta_t\n",
    "X,Y = np.meshgrid(t,x)\n",
    "plt.contourf(X,Y,T)"
   ]
  },
  {
   "cell_type": "markdown",
   "metadata": {},
   "source": [
    "for week 12 do problems 1 and 3 but ignore the last sentence of problem 3"
   ]
  },
  {
   "cell_type": "code",
   "execution_count": null,
   "metadata": {},
   "outputs": [],
   "source": []
  }
 ],
 "metadata": {
  "kernelspec": {
   "display_name": "Python 3",
   "language": "python",
   "name": "python3"
  },
  "language_info": {
   "codemirror_mode": {
    "name": "ipython",
    "version": 3
   },
   "file_extension": ".py",
   "mimetype": "text/x-python",
   "name": "python",
   "nbconvert_exporter": "python",
   "pygments_lexer": "ipython3",
   "version": "3.8.3"
  }
 },
 "nbformat": 4,
 "nbformat_minor": 4
}
