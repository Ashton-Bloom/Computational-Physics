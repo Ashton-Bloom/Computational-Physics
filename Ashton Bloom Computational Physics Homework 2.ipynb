{
 "cells": [
  {
   "cell_type": "markdown",
   "metadata": {},
   "source": [
    "## Arrays\n",
    "\n",
    "In this notebook, we will do math on arrays using functions of the `numpy` package. A nice overview of `numpy` functionality can be found [here](https://docs.scipy.org/doc/numpy/user/quickstart.html). We will also make plots. We start by telling the Jupyter Notebooks to put all graphs inline. Then we import the `numpy` package and call it `np`, and we import the plotting part of the `matplotlib` package and call it `plt`.  We will add these three lines at the top of all upcoming notebooks as we will always be using `numpy` and `matplotlib`. "
   ]
  },
  {
   "cell_type": "code",
   "execution_count": 2,
   "metadata": {},
   "outputs": [],
   "source": [
    "%matplotlib inline\n",
    "import numpy as np\n",
    "import matplotlib.pyplot as plt"
   ]
  },
  {
   "cell_type": "markdown",
   "metadata": {},
   "source": [
    "### One-dimesional arrays\n",
    "There are many ways to create arrays. For example, you can enter the individual elements of an array"
   ]
  },
  {
   "cell_type": "code",
   "execution_count": 3,
   "metadata": {},
   "outputs": [
    {
     "data": {
      "text/plain": [
       "array([ 1,  7,  2, 12])"
      ]
     },
     "execution_count": 3,
     "metadata": {},
     "output_type": "execute_result"
    }
   ],
   "source": [
    "np.array([1, 7, 2, 12])"
   ]
  },
  {
   "cell_type": "markdown",
   "metadata": {},
   "source": [
    "Note that the `array` function takes one sequence of points between square brackets. \n",
    "Another function to create an array is `np.ones(shape)`, which creates an array of the specified `shape` filled with the value 1. \n",
    "There is an analogous function `np.zeros(shape)` to create an array filled with the value 0 (which can also be achieved with `0 * np.ones(shape)`). Next to the already mentioned `np.linspace` function there is the `np.arange(start, end, step)` \n",
    "function, which creates an array starting at `start`, taking steps equal to `step` and stopping *before* it reaches `end`. If you don't specify the `step`, \n",
    "it is set equal to 1. If you only specify one input value, it returns a sequence starting at 0 and incrementing by 1 until the specified value is reached (but again, it stops before it reaches that value)"
   ]
  },
  {
   "cell_type": "code",
   "execution_count": 4,
   "metadata": {},
   "outputs": [
    {
     "name": "stdout",
     "output_type": "stream",
     "text": [
      "[1 2 3 4 5 6]\n",
      "[0 1 2 3 4]\n"
     ]
    }
   ],
   "source": [
    "print(np.arange(1, 7)) # Takes default steps of 1 and doesn't include 7\n",
    "print(np.arange(5)) # Starts at 0 end ends at 4, giving 5 numbers"
   ]
  },
  {
   "cell_type": "markdown",
   "metadata": {},
   "source": [
    "Recall that comments in Python are preceded by a `#`. \n",
    "Arrays have a dimension. So far we have only used one-dimensional arrays. \n",
    "Hence the dimension is 1. \n",
    "For one-dimensional arrays, you can also compute the length (which is part of Python and not `numpy`), which returns the number of values in the array"
   ]
  },
  {
   "cell_type": "code",
   "execution_count": 5,
   "metadata": {},
   "outputs": [
    {
     "name": "stdout",
     "output_type": "stream",
     "text": [
      "number of dimensions of x: 1\n",
      "length of x: 4\n"
     ]
    }
   ],
   "source": [
    "x = np.array([1, 7, 2, 12])\n",
    "print('number of dimensions of x:', np.ndim(x))\n",
    "print('length of x:', len(x))"
   ]
  },
  {
   "cell_type": "markdown",
   "metadata": {},
   "source": [
    "The individual elements of an array can be accessed with their index. Indices start at 0. \n",
    "This may require a bit of getting used to. It means that the first value in the array has index 0. The index of an array is specified using square brackets."
   ]
  },
  {
   "cell_type": "code",
   "execution_count": 6,
   "metadata": {},
   "outputs": [
    {
     "name": "stdout",
     "output_type": "stream",
     "text": [
      "array x: [20 21 22 23 24 25 26 27 28 29]\n",
      "value with index 0: 20\n",
      "value with index 5: 25\n"
     ]
    }
   ],
   "source": [
    "x = np.arange(20, 30)\n",
    "print('array x:', x)\n",
    "print('value with index 0:', x[0])\n",
    "print('value with index 5:', x[5])"
   ]
  },
  {
   "cell_type": "markdown",
   "metadata": {},
   "source": [
    "A range of indices may be specified using the colon syntax:\n",
    "`x[start:end_before]` or `x[start:end_before:step]`. If the `start` isn't specified, 0 will be used. If the step isn't specified, 1 will be used. "
   ]
  },
  {
   "cell_type": "code",
   "execution_count": 7,
   "metadata": {},
   "outputs": [
    {
     "name": "stdout",
     "output_type": "stream",
     "text": [
      "[20 21 22 23 24 25 26 27 28 29]\n",
      "[20 21 22 23 24]\n",
      "[20 21 22 23 24]\n",
      "[23 24 25 26]\n",
      "[22 24 26 28]\n"
     ]
    }
   ],
   "source": [
    "x = np.arange(20, 30)\n",
    "print(x)\n",
    "print(x[0:5])\n",
    "print(x[:5])  # same as previous one\n",
    "print(x[3:7])\n",
    "print(x[2:9:2])  # step is 2"
   ]
  },
  {
   "cell_type": "markdown",
   "metadata": {},
   "source": [
    "You can also start at the end and count back. Generally, the index of the end is not known. You can find out how long the array is and access the last value by typing `x[len(x) - 1]` but it would be inconvenient to have to type `len(arrayname)` all the time. Luckily, there is a shortcut: `x[-1]` is the same as `x[len(x) - 1]` and represents the last value in the array. For example:"
   ]
  },
  {
   "cell_type": "code",
   "execution_count": 8,
   "metadata": {},
   "outputs": [
    {
     "name": "stdout",
     "output_type": "stream",
     "text": [
      "[ 0 10 20 30 40 50 60 70 80 90]\n",
      "90\n",
      "90\n",
      "[90 80 70 60 50 40 30 20 10  0]\n"
     ]
    }
   ],
   "source": [
    "xvalues = np.arange(0, 100, 10)\n",
    "print(xvalues)\n",
    "print(xvalues[len(xvalues) - 1])  # last value in array\n",
    "print(xvalues[-1])  # much shorter\n",
    "print(xvalues[-1::-1])  # start at the end and go back with steps of -1"
   ]
  },
  {
   "cell_type": "markdown",
   "metadata": {},
   "source": [
    "You can assign one value to a range of an array by specifying a range of indices, \n",
    "or you can assign an array to a range of another array, as long as the ranges have the same length. In the last example below, the first 5 values of `x` (specified as `x[0:5]`) are given the values `[40, 42, 44, 46, 48]`."
   ]
  },
  {
   "cell_type": "code",
   "execution_count": 9,
   "metadata": {},
   "outputs": [
    {
     "name": "stdout",
     "output_type": "stream",
     "text": [
      "[20. 20. 20. 20. 20. 20. 20. 20. 20. 20.]\n",
      "[40. 40. 40. 40. 40. 20. 20. 20. 20. 20.]\n",
      "[40. 42. 44. 46. 48. 20. 20. 20. 20. 20.]\n"
     ]
    }
   ],
   "source": [
    "x = 20 * np.ones(10)\n",
    "print(x)\n",
    "x[0:5] = 40\n",
    "print(x)\n",
    "x[0:5] = np.arange(40, 50, 2)\n",
    "print(x)"
   ]
  },
  {
   "cell_type": "markdown",
   "metadata": {},
   "source": [
    "### Exercise 1, <a name=\"back1\"></a> Arrays and indices\n",
    "Create an array of zeros with length 20. Change the first 5 values to 10. Change the next 10 values to a sequence starting at 12 and increasig with steps of 2 to 30 (do this with one command). Set the final 5 values to 30. Plot the value of the array on the $y$-axis vs. the index of the array on the $x$-axis. Draw vertical dashed lines at $x=4$ and $x=14$ (i.e., the section between the dashed lines is where the line increases from 10 to 30). Set the minimum and maximum values of the $y$-axis to 8 and 32 using the `ylim` command."
   ]
  },
  {
   "cell_type": "code",
   "execution_count": 66,
   "metadata": {},
   "outputs": [
    {
     "name": "stdout",
     "output_type": "stream",
     "text": [
      "[10. 10. 10. 10. 10. 12. 14. 16. 18. 20. 22. 24. 26. 28. 30. 30. 30. 30.\n",
      " 30. 30.]\n"
     ]
    },
    {
     "data": {
      "text/plain": [
       "Text(0, 0.5, 'value of array index')"
      ]
     },
     "execution_count": 66,
     "metadata": {},
     "output_type": "execute_result"
    },
    {
     "data": {
      "image/png": "[encoded data removed]",
      "text/plain": [
       "<Figure size 432x288 with 1 Axes>"
      ]
     },
     "metadata": {
      "needs_background": "light"
     },
     "output_type": "display_data"
    }
   ],
   "source": [
    "a = np.zeros(20)\n",
    "a[0:5] = 10\n",
    "a[5:15] = np.arange(12,32,2)\n",
    "a[15:20] = 30\n",
    "print(a)\n",
    "\n",
    "plt.plot(a)\n",
    "plt.axvline(4,linestyle='dashed')\n",
    "plt.axvline(14, linestyle='dashed')\n",
    "plt.ylim(8,32)\n",
    "plt.xlabel('array index')\n",
    "plt.ylabel('value of array index')"
   ]
  },
  {
   "cell_type": "markdown",
   "metadata": {},
   "source": [
    "### Arrays, Lists, and Tuples\n",
    "A one-dimensional array is a sequence of values that you can do math on. Next to an array, Python has several other data types that can store a sequence of values. The first one is called a `list` and is entered between square brackets. The second one is a tuple (you are right, strange name), and it is entered with parentheses. The difference is that you can change the values in a list after you create them, and you can not do that with a tuple. Other than that, for now you just need to remember that they exist, and that you *cannot* do math with either lists or tuples. When you do `2 * alist`, where `alist` is a list, you don't multiply all values in `alist` with the number 2. What happens is that you create a new list that contains `alist` twice (so it adds them back to back). The same holds for tuples. That can be very useful, but not when your intent is to multiply all values by 2. In the example below, the first value in a list is modified. Try to modify one of the values in `btuple` below and you will see that you get an error message:"
   ]
  },
  {
   "cell_type": "code",
   "execution_count": 67,
   "metadata": {},
   "outputs": [
    {
     "name": "stdout",
     "output_type": "stream",
     "text": [
      "alist [1, 2, 3]\n",
      "btuple (10, 20, 30)\n",
      "modified alist [7, 2, 3]\n"
     ]
    }
   ],
   "source": [
    "alist = [1, 2, 3]\n",
    "print('alist', alist)\n",
    "btuple = (10, 20, 30)\n",
    "print('btuple', btuple)\n",
    "alist[0] = 7  # Since alist is a list, you can change values \n",
    "print('modified alist', alist)\n",
    "#btuple[0] = 100  # Will give an error\n",
    "#print(2 * alist)"
   ]
  },
  {
   "cell_type": "markdown",
   "metadata": {},
   "source": [
    "Lists and tuples are versatile data types in Python. We already used lists without realizing it when we created our first array with the command `np.array([1, 7, 2, 12])`. What we did is we gave the `array` function one input argument: the list `[1, 7, 2, 12]`, and the `array` function returned a one-dimensional array with those values. Lists and tuples can consist of a sequences of pretty much anything, not just numbers. In the example given below, `alist` contains 5 *things*: the integer 1, the float 20.0, the word `python`, an array with the values 1,2,3, and finally, the function `len`. The latter means that `alist[4]` is actually the function `len`. That function can be called to determine the length of an array as shown below. The latter may be a bit confusing, but it is cool behavior if you take the time to think about it."
   ]
  },
  {
   "cell_type": "code",
   "execution_count": 68,
   "metadata": {},
   "outputs": [
    {
     "name": "stdout",
     "output_type": "stream",
     "text": [
      "[1, 20.0, 'python', array([1, 2, 3]), <built-in function len>]\n",
      "1\n",
      "python\n",
      "3\n"
     ]
    }
   ],
   "source": [
    "alist = [1, 20.0, 'python', np.array([1,2,3]), len]\n",
    "print(alist)\n",
    "print(alist[0])\n",
    "print(alist[2])\n",
    "print(alist[4](alist[3]))  # same as len(np.array([1,2,3]))"
   ]
  },
  {
   "cell_type": "markdown",
   "metadata": {},
   "source": [
    "### Two-dimensional arrays\n",
    "Arrays may have arbitrary dimensions (as long as they fit in your computer's memory). We will make frequent use of two-dimensional arrays. They can be created with any of the aforementioned functions by specifying the number of rows and columns of the array. Note that the number of rows and columns must be a tuple (so they need to be between parentheses), as the functions expect only one input argument for the shape of the array, which may be either one number or a tuple of multiple numbers."
   ]
  },
  {
   "cell_type": "code",
   "execution_count": 69,
   "metadata": {},
   "outputs": [
    {
     "name": "stdout",
     "output_type": "stream",
     "text": [
      "[[1. 1. 1. 1.]\n",
      " [1. 1. 1. 1.]\n",
      " [1. 1. 1. 1.]]\n"
     ]
    }
   ],
   "source": [
    "x = np.ones((3, 4)) # An array with 3 rows and 4 columns\n",
    "print(x)"
   ]
  },
  {
   "cell_type": "markdown",
   "metadata": {},
   "source": [
    "Arrays may also be defined by specifying all the values in the array. The `array` function gets passed one list consisting of separate lists for each row of the array. In the example below, the rows are entered on different lines. That may make it easier to enter the array, but it is not required. You can change the size of an array to any shape using the `reshape` function as long as the total number of entries doesn't change. "
   ]
  },
  {
   "cell_type": "code",
   "execution_count": 70,
   "metadata": {},
   "outputs": [
    {
     "name": "stdout",
     "output_type": "stream",
     "text": [
      "[[4 2 3 2]\n",
      " [2 4 3 1]\n",
      " [0 4 1 3]]\n",
      "[[4 2 3 2 2 4]\n",
      " [3 1 0 4 1 3]]\n",
      "[[4 2 3 2 2 4 3 1 0 4 1 3]]\n"
     ]
    }
   ],
   "source": [
    "x = np.array([[4, 2, 3, 2],\n",
    "              [2, 4, 3, 1],\n",
    "              [0, 4, 1, 3]])\n",
    "print(x)\n",
    "print(np.reshape(x, (2, 6)))  # 2 rows, 6 columns\n",
    "print(np.reshape(x, (1, 12)))  # 1 row, 12 columns"
   ]
  },
  {
   "cell_type": "markdown",
   "metadata": {},
   "source": [
    "The index of a two-dimensional array is specified with two values, first the row index, then the column index."
   ]
  },
  {
   "cell_type": "code",
   "execution_count": 71,
   "metadata": {},
   "outputs": [
    {
     "name": "stdout",
     "output_type": "stream",
     "text": [
      "[[100.   0.   0.   0.   0.   0.   0.   0.]\n",
      " [  0.   0.   0.   0. 200. 200. 200. 200.]\n",
      " [  0.   0.   0.   0.   0. 400. 400. 400.]]\n"
     ]
    }
   ],
   "source": [
    "x = np.zeros((3, 8))\n",
    "x[0, 0] = 100\n",
    "x[1, 4:] = 200  # Row with index 1, columns starting with 4 to the end\n",
    "x[2, -1:4:-1] = 400  # Row with index 2, columns counting back from the end with steps of 1 and stop before reaching index 4\n",
    "print(x)"
   ]
  },
  {
   "cell_type": "markdown",
   "metadata": {},
   "source": [
    "### Arrays are not matrices\n",
    "Now that we talk about the rows and columns of an array, the math-oriented reader may think that arrays are matrices, or that one-dimensional arrays are vectors. It is crucial to understand that *arrays are not vectors or matrices*. The multiplication and division of two arrays is term by term"
   ]
  },
  {
   "cell_type": "code",
   "execution_count": 72,
   "metadata": {},
   "outputs": [
    {
     "name": "stdout",
     "output_type": "stream",
     "text": [
      "array a: [ 4  8 12 16]\n",
      "array b: [2 2 4 4]\n",
      "a * b  : [ 8 16 48 64]\n",
      "a / b  : [2. 4. 3. 4.]\n"
     ]
    }
   ],
   "source": [
    "a = np.arange(4, 20, 4)\n",
    "b = np.array([2, 2, 4, 4])\n",
    "print('array a:', a)\n",
    "print('array b:', b)\n",
    "print('a * b  :', a * b)  # term by term multiplication\n",
    "print('a / b  :', a / b)  # term by term division"
   ]
  },
  {
   "cell_type": "markdown",
   "metadata": {},
   "source": [
    "### Exercise 2, <a name=\"back2\"></a> Two-dimensional array indices\n",
    "For the array `x` shown below, write code to print: \n",
    "\n",
    "* the first row of `x`\n",
    "* the first column of `x`\n",
    "* the third row of `x`\n",
    "* the last two columns of `x`\n",
    "* the 2 by 2 block of values in the upper right-hand corner of `x`\n",
    "* the 2 by 2 block of values at the center of `x`\n",
    "\n",
    "`x = np.array([[4, 2, 3, 2],\n",
    "               [2, 4, 3, 1],\n",
    "               [2, 4, 1, 3],\n",
    "               [4, 1, 2, 3]])`"
   ]
  },
  {
   "cell_type": "code",
   "execution_count": 105,
   "metadata": {},
   "outputs": [
    {
     "name": "stdout",
     "output_type": "stream",
     "text": [
      "[4 2 3 2]\n",
      "\n",
      "[4 2 2 4]\n",
      "\n",
      "[2 4 1 3]\n",
      "\n",
      "[[3 2]\n",
      " [3 1]\n",
      " [1 3]\n",
      " [2 3]]\n",
      "\n",
      "[[3 2]\n",
      " [3 1]]\n",
      "\n",
      "[[4 3]\n",
      " [4 1]]\n"
     ]
    }
   ],
   "source": [
    "x = np.array([[4, 2, 3, 2],\n",
    "               [2, 4, 3, 1],\n",
    "               [2, 4, 1, 3],\n",
    "               [4, 1, 2, 3]])\n",
    "print(x[0]) #First row of x\n",
    "print('')\n",
    "print(x[:,0]) #first column of x\n",
    "print('')\n",
    "print(x[2]) #third row of x\n",
    "print('')\n",
    "print(x[:,2:4]) #last two columns of x\n",
    "print('')\n",
    "print(x[0:2,2:4]) #2x2 in upper right of x\n",
    "print('')\n",
    "print(x[1:3,1:3]) #2x2 in the center of x"
   ]
  },
  {
   "cell_type": "markdown",
   "metadata": {},
   "source": [
    "### Visualizing two-dimensional arrays\n",
    "Two-dimensonal arrays can be visualized with the `plt.matshow` function. In the example below, the array is very small (only 4 by 4), but it illustrates the general principle. A colorbar is added as a legend. The ticks in the colorbar are specified to be 2, 4, 6, and 8. Note that the first row of the array (with index 0), is plotted at the top, which corresponds to the location of the first row in the array."
   ]
  },
  {
   "cell_type": "code",
   "execution_count": 106,
   "metadata": {},
   "outputs": [
    {
     "name": "stdout",
     "output_type": "stream",
     "text": [
      "[[8 4 6 2]\n",
      " [4 8 6 2]\n",
      " [4 8 2 6]\n",
      " [8 2 4 6]]\n"
     ]
    },
    {
     "data": {
      "image/png": "[encoded data removed]",
      "text/plain": [
       "<Figure size 288x288 with 2 Axes>"
      ]
     },
     "metadata": {
      "needs_background": "light"
     },
     "output_type": "display_data"
    }
   ],
   "source": [
    "x = np.array([[8, 4, 6, 2],\n",
    "              [4, 8, 6, 2],\n",
    "              [4, 8, 2, 6],\n",
    "              [8, 2, 4, 6]])\n",
    "plt.matshow(x)\n",
    "plt.colorbar(ticks=[2, 4, 6, 8], shrink=0.8)\n",
    "print(x)"
   ]
  },
  {
   "cell_type": "markdown",
   "metadata": {},
   "source": [
    "The colors that are used are defined in the default color map (it is called `viridis`), which maps the highest value to yellow, the lowest value to purple and the numbers in between varying between blue and green. An explanation of the advantages of `viridis` can be seen [here](https://youtu.be/xAoljeRJ3lU). If you want other colors, you can choose one of the other color maps with the `cmap` keyword argument. To find out all the available color maps, go \n",
    "[here](http://matplotlib.org/users/colormaps.html). For example, setting the color map to `rainbow` gives"
   ]
  },
  {
   "cell_type": "code",
   "execution_count": 107,
   "metadata": {},
   "outputs": [
    {
     "data": {
      "image/png": "[encoded data removed]",
      "text/plain": [
       "<Figure size 288x288 with 2 Axes>"
      ]
     },
     "metadata": {
      "needs_background": "light"
     },
     "output_type": "display_data"
    }
   ],
   "source": [
    "plt.matshow(x, cmap='rainbow')\n",
    "plt.colorbar(ticks=np.arange(2, 9, 2), shrink=0.8);"
   ]
  },
  {
   "cell_type": "markdown",
   "metadata": {},
   "source": [
    "### Exercise 3, <a name=\"back3\"></a> Create and visualize an array\n",
    "Create an array of size 10 by 10. Set the upper left-hand quadrant of the array should to 4, the upper right-hand quadrant to 3, the lower right-hand quadrant t0 2 and the lower left-hand quadrant to 1. First create an array of 10 by 10 using the `zeros` command, then fill each quadrant by specifying the correct index ranges. Visualize the array using `matshow`. It should give a red, yellow, light blue and dark blue box (clock-wise starting from upper left) when you use the `jet` colormap."
   ]
  },
  {
   "cell_type": "code",
   "execution_count": 116,
   "metadata": {},
   "outputs": [
    {
     "name": "stdout",
     "output_type": "stream",
     "text": [
      "[[4. 4. 4. 4. 4. 3. 3. 3. 3. 3.]\n",
      " [4. 4. 4. 4. 4. 3. 3. 3. 3. 3.]\n",
      " [4. 4. 4. 4. 4. 3. 3. 3. 3. 3.]\n",
      " [4. 4. 4. 4. 4. 3. 3. 3. 3. 3.]\n",
      " [4. 4. 4. 4. 4. 3. 3. 3. 3. 3.]\n",
      " [1. 1. 1. 1. 1. 2. 2. 2. 2. 2.]\n",
      " [1. 1. 1. 1. 1. 2. 2. 2. 2. 2.]\n",
      " [1. 1. 1. 1. 1. 2. 2. 2. 2. 2.]\n",
      " [1. 1. 1. 1. 1. 2. 2. 2. 2. 2.]\n",
      " [1. 1. 1. 1. 1. 2. 2. 2. 2. 2.]]\n"
     ]
    },
    {
     "data": {
      "text/plain": [
       "<matplotlib.image.AxesImage at 0x1b07d24c9d0>"
      ]
     },
     "execution_count": 116,
     "metadata": {},
     "output_type": "execute_result"
    },
    {
     "data": {
      "image/png": "[encoded data removed]",
      "text/plain": [
       "<Figure size 288x288 with 1 Axes>"
      ]
     },
     "metadata": {
      "needs_background": "light"
     },
     "output_type": "display_data"
    }
   ],
   "source": [
    "x = np.zeros((10,10))\n",
    "x[0:5,0:5] = 4\n",
    "x[5:10,0:5] = 1\n",
    "x[0:5,5:10] = 3\n",
    "x[5:10,5:10] = 2\n",
    "print(x)\n",
    "\n",
    "plt.matshow(x, cmap='jet')"
   ]
  },
  {
   "cell_type": "markdown",
   "metadata": {},
   "source": [
    "<a href=\"#ex4answer\">Answer to Exercise 4</a>"
   ]
  },
  {
   "cell_type": "markdown",
   "metadata": {},
   "source": [
    "### Using conditions on arrays\n",
    "If you have a variable, you can check whether its value is smaller or larger than a certain other value. This is called a *conditional* statement.\n",
    "For example:"
   ]
  },
  {
   "cell_type": "code",
   "execution_count": 117,
   "metadata": {},
   "outputs": [
    {
     "name": "stdout",
     "output_type": "stream",
     "text": [
      "a < 2: False\n",
      "a > 2: True\n"
     ]
    }
   ],
   "source": [
    "a = 4\n",
    "print('a < 2:', a < 2)\n",
    "print('a > 2:', a > 2)"
   ]
  },
  {
   "cell_type": "markdown",
   "metadata": {},
   "source": [
    "The statement `a < 2` returns a variable of type boolean, which means it can either be `True` or `False`. Besides smaller than or larger than, there are several other conditions you can use:"
   ]
  },
  {
   "cell_type": "code",
   "execution_count": 118,
   "metadata": {},
   "outputs": [
    {
     "name": "stdout",
     "output_type": "stream",
     "text": [
      "the value of a is 4\n",
      "a < 4:  False\n",
      "a <= 4: True\n",
      "a == 4: True\n",
      "a >= 4: True\n",
      "a > 4:  False\n",
      "a != 4: False\n"
     ]
    }
   ],
   "source": [
    "a = 4\n",
    "print('the value of a is', a)\n",
    "print('a < 4: ', a < 4)\n",
    "print('a <= 4:', a <= 4) # a is smaller than or equal to 4\n",
    "print('a == 4:', a == 4) # a is equal to 4. Note that there are 2 equal signs\n",
    "print('a >= 4:', a >= 4) \n",
    "print('a > 4: ', a > 4)\n",
    "print('a != 4:', a != 4) # a is not equal to 4"
   ]
  },
  {
   "cell_type": "markdown",
   "metadata": {},
   "source": [
    "It is important to understand the difference between one equal sign like `a = 4` and two equal signs like `a == 4`. One equal sign means assignment. Whatever is on the right side of the equal sign is assigned to what is on the left side of the equal sign. Two equal signs is a comparison and results in either `True` (when both sides are equal) or `False`."
   ]
  },
  {
   "cell_type": "code",
   "execution_count": 119,
   "metadata": {},
   "outputs": [
    {
     "name": "stdout",
     "output_type": "stream",
     "text": [
      "True\n",
      "False\n",
      "<class 'bool'>\n"
     ]
    }
   ],
   "source": [
    "print(4 == 4)\n",
    "a = 4 == 5\n",
    "print(a)\n",
    "print(type(a))"
   ]
  },
  {
   "cell_type": "markdown",
   "metadata": {},
   "source": [
    "You can also perform comparison statements on arrays, and it will return an array of booleans (`True` and `False` values) for each value in the array. For example let's create an array and find out what values of the array are below 3:"
   ]
  },
  {
   "cell_type": "code",
   "execution_count": 120,
   "metadata": {},
   "outputs": [
    {
     "name": "stdout",
     "output_type": "stream",
     "text": [
      "[0 1 2 3 4]\n",
      "[ True  True  True False False]\n"
     ]
    }
   ],
   "source": [
    "data = np.arange(5)\n",
    "print(data)\n",
    "print(data < 3)"
   ]
  },
  {
   "cell_type": "markdown",
   "metadata": {},
   "source": [
    "The statement `data < 3` returns an array of type `boolean` that has the same length as the array `data` and for each item in the array it is either `True` or `False`. The cool thing is that this array of `True` and `False` values can be used to specify the indices of an array:"
   ]
  },
  {
   "cell_type": "code",
   "execution_count": 121,
   "metadata": {},
   "outputs": [
    {
     "name": "stdout",
     "output_type": "stream",
     "text": [
      "[0 1 2 3 4]\n",
      "[0 1 4]\n"
     ]
    }
   ],
   "source": [
    "a = np.arange(5)\n",
    "print(a)\n",
    "print(a[[True, True, False, False, True]])"
   ]
  },
  {
   "cell_type": "markdown",
   "metadata": {},
   "source": [
    "When the indices of an array are specified with a boolean array, only the values of the array where the boolean array is `True` are selected. This is a very powerful feature. For example, all values of an array that are less than, for example, 3 may be obtained by specifying a condition as the indices."
   ]
  },
  {
   "cell_type": "code",
   "execution_count": 122,
   "metadata": {},
   "outputs": [
    {
     "name": "stdout",
     "output_type": "stream",
     "text": [
      "the total array: [0 1 2 3 4]\n",
      "values less than 3: [0 1 2]\n"
     ]
    }
   ],
   "source": [
    "a = np.arange(5)\n",
    "print('the total array:', a)\n",
    "print('values less than 3:', a[a < 3])"
   ]
  },
  {
   "cell_type": "markdown",
   "metadata": {},
   "source": [
    "If we want to replace all values that are less than 3 by, for example, the value 10, use the following short syntax:"
   ]
  },
  {
   "cell_type": "code",
   "execution_count": 123,
   "metadata": {},
   "outputs": [
    {
     "name": "stdout",
     "output_type": "stream",
     "text": [
      "[0 1 2 3 4]\n",
      "[10 10 10  3  4]\n"
     ]
    }
   ],
   "source": [
    "a = np.arange(5)\n",
    "print(a)\n",
    "a[a < 3] = 10\n",
    "print(a)"
   ]
  },
  {
   "cell_type": "markdown",
   "metadata": {},
   "source": [
    "### Exercise 4, <a name=\"back5\"></a> Replace high and low values in an array\n",
    "Create an array for variable $x$ consisting of 100 values from 0 to 20. Compute $y=\\sin(x)$ and plot $y$ vs. $x$ with a blue line. Next, replace all values of $y$ that are larger than 0.5 by 0.5, and all values that are smaller than $-$0.75 by $-$0.75, and plot the modified $y$ values vs. $x$ using a red line on the same graph. "
   ]
  },
  {
   "cell_type": "code",
   "execution_count": 154,
   "metadata": {},
   "outputs": [
    {
     "data": {
      "text/plain": [
       "[<matplotlib.lines.Line2D at 0x1b07d642e80>]"
      ]
     },
     "execution_count": 154,
     "metadata": {},
     "output_type": "execute_result"
    },
    {
     "data": {
      "image/png": "[encoded data removed]",
      "text/plain": [
       "<Figure size 432x288 with 1 Axes>"
      ]
     },
     "metadata": {
      "needs_background": "light"
     },
     "output_type": "display_data"
    }
   ],
   "source": [
    "x = np.linspace(0,20,100)\n",
    "\n",
    "y = np.sin(x)\n",
    "\n",
    "plt.plot(x,y)\n",
    "\n",
    "y[y > 0.5] = 0.5\n",
    "y[y < -0.75] = -0.75\n",
    "\n",
    "plt.plot(x,y, 'r')"
   ]
  },
  {
   "cell_type": "markdown",
   "metadata": {},
   "source": [
    "\n",
    "### Exercise 5, <a name=\"back6\"></a> Change marker color based on data value\n",
    "Create an array for variable $x$ consisting of 100 \n",
    "points from 0 to 20 and compute $y=\\sin(x)$. Plot a blue dot for every $y$ that is larger than zero, and a red dot otherwise"
   ]
  },
  {
   "cell_type": "code",
   "execution_count": 189,
   "metadata": {},
   "outputs": [
    {
     "data": {
      "text/plain": [
       "[<matplotlib.lines.Line2D at 0x1b07d0af760>,\n",
       " <matplotlib.lines.Line2D at 0x1b07d0af7f0>]"
      ]
     },
     "execution_count": 189,
     "metadata": {},
     "output_type": "execute_result"
    },
    {
     "data": {
      "image/png": "[encoded data removed]",
      "text/plain": [
       "<Figure size 432x288 with 1 Axes>"
      ]
     },
     "metadata": {
      "needs_background": "light"
     },
     "output_type": "display_data"
    }
   ],
   "source": [
    "x = np.linspace(0,20,100)\n",
    "y = np.sin(x)\n",
    "\n",
    "limit = 0\n",
    "\n",
    "supper = np.ma.masked_where(y > 0, y)\n",
    "slower = np.ma.masked_where(y <= 0, y)\n",
    "\n",
    "plt.plot(x, supper, 'ro', x, slower, 'bo')"
   ]
  },
  {
   "cell_type": "markdown",
   "metadata": {},
   "source": [
    "### Exercise 6, <a name=\"back8\"></a> Fix the error \n",
    "In the code below, it is meant to give the last 5 values of the array `x` the values [50, 52, 54, 56, 58] and print the result to the screen, but there are some errors in the code. Remove the comment markers and run the code to see the error message. Then fix the code and run it again."
   ]
  },
  {
   "cell_type": "code",
   "execution_count": 194,
   "metadata": {},
   "outputs": [
    {
     "name": "stdout",
     "output_type": "stream",
     "text": [
      "[ 1.  1.  1.  1.  1. 50. 52. 54. 56. 58.]\n"
     ]
    }
   ],
   "source": [
    "x = np.ones(10)\n",
    "x[5:] = np.arange(50, 60, 2)\n",
    "print(x)"
   ]
  },
  {
   "cell_type": "markdown",
   "metadata": {},
   "source": [
    "## Functions\n",
    "We are going to review how to write our own functions, but we start out with a bit about Python packages."
   ]
  },
  {
   "cell_type": "markdown",
   "metadata": {},
   "source": [
    "### A bit about packages\n",
    "A package is a set of Python functions. When we want to use a function from a package, we need to import it. There are many different ways to import packages. The most basic syntax is\n",
    "\n",
    "`import numpy`\n",
    "\n",
    "after which any function in `numpy` can be called as `numpy.function()`. If you don't like the name of the package, for example because it is long, you can change the name. The `numpy` package is renamed to `np` by typing\n",
    "\n",
    "`import numpy as np`\n",
    "\n",
    "after which all functions in `numpy` can be called as `np.function()`. \n",
    "\n",
    "Packages can also have subpackages. For example, the `numpy` package has a subpackage called `random`, which has a bunch of functions to deal with random variables. If the `numpy` package is imported with `import numpy as np`, functions in the `random` subpackage can be called as `np.random.function()`. \n",
    "\n",
    "If you only need one specific function, you don't have to import the entire package. For example, if you only want the cosine function of the numpy package, you may import it as `from numpy import cos`, after which you can simply call the cosine function as `cos()`. You can even rename functions when you import them. For example, after `from numpy import cos as newname`, you can call the function `newname()` to compute the cosine (I know, pretty silly, but this can become handy). \n",
    "\n",
    "In the previous Notebooks we always imported `numpy` and called it `np` and we imported the `matplotlib.pyplot` and called it `plt`. Both are standard names in the Python community. The statement we added before importing `matplotlib` is `%matplotlib inline`. This latter command is an IPython command and not a Python command. It will only work in IPython and is called a magic command. All magic commands are preceded with a `%`. The statement `%matplotlib inline` puts all figures in the Notebook rather than in a separate window. \n",
    "\n",
    "Enough about packages for now. Let's start the way we always start."
   ]
  },
  {
   "cell_type": "code",
   "execution_count": null,
   "metadata": {},
   "outputs": [],
   "source": [
    "%matplotlib inline\n",
    "import numpy as np\n",
    "import matplotlib.pyplot as plt"
   ]
  },
  {
   "cell_type": "markdown",
   "metadata": {},
   "source": [
    "### Functions\n",
    "Functions are an essential part of a programming language.\n",
    "You already used many functions like `plot`, `loadtxt`, and `linspace`.\n",
    "But you can also define your own functions.\n",
    "To define a new function, use the `def` command. After `def` follows the name of the function and then between parentheses the arguments of the function and finally a colon. After the colon you indent until you are done with the function. The last line of the function should be `return` followed by what you want to return. For example, consider the following function of $x$:\n",
    "\n",
    "$f(x)= \\cos(x) \\qquad x <0$\n",
    "\n",
    "$f(x) = \\exp(-x) \\qquad x \\ge 0$\n",
    "\n",
    "Let's implement $f(x)$ in a function called `func`. There is one input argument: $x$. "
   ]
  },
  {
   "cell_type": "code",
   "execution_count": null,
   "metadata": {},
   "outputs": [],
   "source": [
    "def func(x):\n",
    "    if x < 0:\n",
    "        f = np.cos(x)\n",
    "    else:\n",
    "        f = np.exp(-x)\n",
    "    return f\n",
    "\n",
    "print(func(3))"
   ]
  },
  {
   "cell_type": "markdown",
   "metadata": {},
   "source": [
    "Once you define a function in Python, you can call it whenever you want during the session. So we can call it again"
   ]
  },
  {
   "cell_type": "code",
   "execution_count": null,
   "metadata": {},
   "outputs": [],
   "source": [
    "print(func(-2))"
   ]
  },
  {
   "cell_type": "markdown",
   "metadata": {},
   "source": [
    "If you type\n",
    "\n",
    "`func(` and then hit [shift-tab]\n",
    "\n",
    "and wait a split second, the input arguments of the function pop-up in a little window, just like for other functions we already used. You can also provide additional documentation of your function. Put the documentation at the top of the indented block and put it between triple double quotes (`\"\"\"`). Run the code below to define the function `func` with the additional documentation, then in the code cell below type \n",
    "\n",
    "`func(` \n",
    "\n",
    "and hit [shift][tab] to see the additional documentation. Warning: don't leave a code cell with just `func(` or `func()` as you will get an error on [Kernel][Restart & Run All Cells]."
   ]
  },
  {
   "cell_type": "code",
   "execution_count": 195,
   "metadata": {},
   "outputs": [],
   "source": [
    "def func(x):\n",
    "    \"\"\"First Python function\n",
    "    written by Student X\"\"\"\n",
    "    if x < 0:\n",
    "        f = np.cos(x)\n",
    "    else:\n",
    "        f = np.exp(-x)\n",
    "    return f"
   ]
  },
  {
   "cell_type": "markdown",
   "metadata": {},
   "source": [
    "The names of the arguments of a function are the names used inside the function. They have no relationship to the names used outside the function. When using a variable as the argument of a function, only the value gets passed to the function. In the example below, the value of y is passed as the first argument of the function func. Inside the function, this value is used for the variable x."
   ]
  },
  {
   "cell_type": "code",
   "execution_count": 196,
   "metadata": {},
   "outputs": [
    {
     "name": "stdout",
     "output_type": "stream",
     "text": [
      "func(2): 0.1353352832366127\n"
     ]
    }
   ],
   "source": [
    "y = 2\n",
    "print('func(2):', func(y))"
   ]
  },
  {
   "cell_type": "markdown",
   "metadata": {},
   "source": [
    "### Exercise 7. <a name=\"back1\"></a>First function\n",
    "Write a Python function for the following function:\n",
    "\n",
    "$f(x)=e^{-\\alpha x}\\cos(x)$\n",
    "\n",
    "The function should take `x` and `alpha` as input arguments and return the function value. Give your function a unique name (if you also call it `func` it will overwrite the `func` function that we defined above). Make a plot of $f(x)$ vs. $x$ for $x$ going from 0 to $10\\pi$ using two different values of $\\alpha$: 0.1 and 0.2. Add a legend and label the axes."
   ]
  },
  {
   "cell_type": "code",
   "execution_count": 227,
   "metadata": {},
   "outputs": [
    {
     "data": {
      "text/plain": [
       "<matplotlib.legend.Legend at 0x1b000341dc0>"
      ]
     },
     "execution_count": 227,
     "metadata": {},
     "output_type": "execute_result"
    },
    {
     "data": {
      "image/png": "[encoded data removed]",
      "text/plain": [
       "<Figure size 432x288 with 1 Axes>"
      ]
     },
     "metadata": {
      "needs_background": "light"
     },
     "output_type": "display_data"
    }
   ],
   "source": [
    "def expcos(x, alpha):\n",
    "    e = np.exp(-alpha*x)*np.cos(x)\n",
    "    return e\n",
    "\n",
    "y = np.linspace(0,10*np.pi, 1000)\n",
    "\n",
    "z = expcos(y,0.1)\n",
    "plt.plot(y,z, label='Alpha = 0.1')\n",
    "plt.xlabel('Values from 0 to 10pi')\n",
    "plt.ylabel('Eesulting Values from Function')\n",
    "v = expcos(y,0.2)\n",
    "plt.plot(y,v, label ='Alpha = 0.2')\n",
    "plt.legend(loc='upper right')\n",
    "\n"
   ]
  },
  {
   "cell_type": "markdown",
   "metadata": {},
   "source": [
    "Keyword arguments\n",
    "Functions may have multiple input arguments followed by keyword arguments. Arguments must be entered and must be entered in the order defined. Keyword arguments don't need to be entered. When they are not entered, the default value is used. Keyword arguments may be given in any order as long as they come after the regular arguments. If you specify the keyword arguments in the order they are defined in the argument list, you don't even need to preceed them with the keyword, but it is saver to write the keywords out and it makes your code easier to read. For example, the function  𝑓(𝑥)=𝐴cos(𝜋𝑥+𝜃)  can be written with keyword arguments for  𝐴  and  𝜃  as follows."
   ]
  },
  {
   "cell_type": "code",
   "execution_count": null,
   "metadata": {},
   "outputs": [],
   "source": [
    "def testfunc(x, A=1, theta=0):\n",
    "    return A * np.cos(np.pi * x + theta)\n",
    "\n",
    "print(testfunc(1))  # Uses default A=1, theta=0: cos(pi)\n",
    "print(testfunc(1, A=2))  # Now A=2, and theta is still 0: 2*cos(pi)\n",
    "print(testfunc(1, A=2, theta=np.pi / 4))  # Now A=2, theta=pi/4: 2*cos(5pi/4)\n",
    "print(testfunc(1, theta=np.pi / 4, A=2))  # Same as above: 2*cos(5pi/4)\n",
    "print(testfunc(1, theta=np.pi / 4))  # Now theta=pi/4, and A is still 1: cos(5pi/4)"
   ]
  },
  {
   "cell_type": "markdown",
   "metadata": {},
   "source": [
    "Note that the proper style was applied, as defined in Notebook 1: there are spaces around mathematical symbols, but not around the equal sign of the keyword argument. "
   ]
  },
  {
   "cell_type": "markdown",
   "metadata": {},
   "source": [
    "### Local variables\n",
    "Variables declared inside a function can only be used inside that function. The outside of a function doesn't know about the variables used inside the function, except for the variables that are returned by the function. In the code below, remove the `#` before `print(a)` and you will get an error message, as `a` is a local variable inside the function `localtest` (then put the `#` back, else you get an error when running [Kernel][Restart & Run All Cells])."
   ]
  },
  {
   "cell_type": "code",
   "execution_count": null,
   "metadata": {},
   "outputs": [],
   "source": [
    "def localtest(x):\n",
    "    a = 3\n",
    "    b = 5\n",
    "    return a * x + b\n",
    "print(localtest(4))\n",
    "#print(a)  # Will cause an error, as 'a' is not known outside function "
   ]
  },
  {
   "cell_type": "markdown",
   "metadata": {},
   "source": [
    "Three types of variables inside a function\n",
    "There are actually three types of variables inside a function. We already learned about two of them: variables passed to the function through the argument list, like x in the function above, and local variables, like a and b in the function above. The third type are variables defined outside the function but not passed to the function through the argument list. When a variable is used inside a Python function, Python first checks whether the variable has been defined locally. If not, it checks whether the variable is passed to the function through the argument list. And if that is not the case, Python checks whether the variable is defined outside the function, from the place the function was called. If that is not the case either, it will throw an error message. It is considered good coding practice to pass variables to a function when they are needed inside a function, rather than counting on Python to find the variable outside the function; it will likely lead to fewer coding errors as well.\n",
    "\n",
    "Note that when a variable is defined locally, Python will not check whether that variable is also declared outside the function. It will happily create a new variable with the same name inside the function. It is important to realize the difference between these different types, so let's do a few examples."
   ]
  },
  {
   "cell_type": "code",
   "execution_count": null,
   "metadata": {},
   "outputs": [],
   "source": [
    "# This function works properly\n",
    "def test1(x):\n",
    "    a = 3\n",
    "    b = 5\n",
    "    return a * x + b\n",
    "\n",
    "print(test1(4))\n",
    "\n",
    "# This function also works, but it is sloppy coding\n",
    "# since variable a is defined outside the function\n",
    "a = 3\n",
    "\n",
    "def test2(x):\n",
    "    b = 5\n",
    "    return a * x + b\n",
    "\n",
    "print(test2(4))  "
   ]
  },
  {
   "cell_type": "markdown",
   "metadata": {},
   "source": [
    "In the following function, we define variable var1 outside the function test3. The function test3 doesn't take any input arguments (but it still needs the parentheses, else Python doesn't know it is a function!), and it creates a local variable var1. This local var1 variable is only known inside the function test3 and doesn't effect the value of var1 outside function test3."
   ]
  },
  {
   "cell_type": "code",
   "execution_count": null,
   "metadata": {},
   "outputs": [],
   "source": [
    "var1 = 8\n",
    "\n",
    "def test3():\n",
    "    var1 = 4\n",
    "    print('Inside the function test3, var1 equals:', var1)\n",
    "    \n",
    "test3()\n",
    "print('Value of var1 outside test3:', var1)"
   ]
  },
  {
   "cell_type": "markdown",
   "metadata": {},
   "source": [
    "### Functions are building blocks that need to be tested separately\n",
    "Functions are the building blocks of a computer code. They represent a well-defined functionality, which means they can *and should* be tested separately. So make it a habit to test whether your function does what you intended it to do. Sometimes it is easy to test a function: you can compare the value to a hand-calculation, for example. Other times it is more difficult, and you need to write some additional code to test the function. It is always worthwhile to do that. If you test your functions well, it will aid you in debugging your code, because you know that the error is not inside the function."
   ]
  },
  {
   "cell_type": "markdown",
   "metadata": {},
   "source": [
    "### Exercise 8, <a name=\"back2\"></a>Stream function for flow around a cylinder\n",
    "Consider two-dimensional inviscid fluid flow (potential flow) around a cylinder.\n",
    "The origin of the coordinate system is at the center of the cylinder.\n",
    "The stream function is a function that is constant along stream lines. \n",
    "The stream function $\\psi$ is a function of polar coordinates $r$ and $\\theta$. The stream function is constant and equal to zero on the cylinder and doesn't really exist inside the cylinder, so let's make it zero there, like it is on the cylinder.\n",
    "\n",
    "$$\\begin{split}\n",
    "\\psi &= 0 \\qquad r\\le R \\\\\n",
    "\\psi &= U(r-R^2/r)\\sin(\\theta) \\qquad r\\ge R\n",
    "\\end{split}$$\n",
    "\n",
    "where $U$ is the flow in the $x$-direction, $r$ is the radial distance from the center of the cylinder, $\\theta$ is the angle, and $R$ is the radius of the cylinder. You may recall it is not always easy to compute the correct angle when given a value of $x$ and $y$, as the regular arctan function returns a value between $-\\pi/2$ and $+\\pi/2$ (radians), while if $x=-2$ and $y=2$, the angle should be $3\\pi/4$.\n",
    "`numpy` has a very cool function to compute the correct angle between $-\\pi$ and $+\\pi$ given the $x$ and $y$ coordinates. The function is `arctan2(y, x)`. Note that the function takes as its *first* argument `y` and as its *second* argument `x`.  \n",
    "\n",
    "Write a function that computes the stream function for flow around a cylinder. The function should take two arguments, `x` and `y`, and two keyword arguments, `U` and `R`, and should return the stream function value. If you write the function correctly, it should give `psi(2, 4, U=2, R=1.5) = 7.1`, and `psi(0.5, 0, U=2, R=1.5) = 0` (inside the cylinder)."
   ]
  },
  {
   "cell_type": "code",
   "execution_count": 330,
   "metadata": {},
   "outputs": [
    {
     "data": {
      "text/plain": [
       "7.1000000000000005"
      ]
     },
     "execution_count": 330,
     "metadata": {},
     "output_type": "execute_result"
    }
   ],
   "source": [
    "def streamfunc(x,y,U,R):\n",
    "    o = np.arctan2(y,x)\n",
    "    r = np.sqrt((x**2)+(y**2))\n",
    "    p = np.sin(o)\n",
    "    q = (r-((R**2)/r))\n",
    "    \n",
    "    if (r >= R):\n",
    "        l = U*q*p\n",
    "    else:\n",
    "        l = 0\n",
    "    return l\n",
    "         \n",
    "streamfunc(2,4,2,1.5)\n",
    "\n"
   ]
  },
  {
   "cell_type": "markdown",
   "metadata": {},
   "source": [
    "### Vectorization of a function\n",
    "Not all functions can be called with an array of values as input argument. For example, the function `func` defined at the beginning of this notebook doesn't work with an array of `x` values. Remove the `#` and try it out. Then put the `#` back"
   ]
  },
  {
   "cell_type": "code",
   "execution_count": 270,
   "metadata": {},
   "outputs": [],
   "source": [
    "def func(x):\n",
    "    if x < 0:\n",
    "        f = np.cos(x)\n",
    "    else:\n",
    "        f = np.exp(-x)\n",
    "    return f\n",
    "\n",
    "x = np.linspace(-6, 6, 100)\n",
    "#y = func(x) # Run this line after removing the # to see the error that occurs. Then put the # back"
   ]
  },
  {
   "cell_type": "markdown",
   "metadata": {},
   "source": [
    "The reason this doesn't work is that Python doesn't know what to do with the line\n",
    "\n",
    "if x < 0\n",
    "\n",
    "when x contains many values. Hence the error message\n",
    "\n",
    "The truth value of an array with more than one element is ambiguous\n",
    "\n",
    "For some values of x the if statement may be True, for others it may be False. A simple way around this problem is to vectorize the function. That means we create a new function, let's call it funcvec, that is a vectorized form of func and can be called with an array as an argument. This is by far the easiest but not necessarily the computationally fastest way to make sure a function can be called with an array as an argument, and, unfortunately, it won't work for all situations.\n",
    "\n"
   ]
  },
  {
   "cell_type": "code",
   "execution_count": 271,
   "metadata": {},
   "outputs": [
    {
     "data": {
      "image/png": "[encoded data removed]",
      "text/plain": [
       "<Figure size 432x288 with 1 Axes>"
      ]
     },
     "metadata": {
      "needs_background": "light"
     },
     "output_type": "display_data"
    }
   ],
   "source": [
    "funcvec = np.vectorize(func)\n",
    "x = np.linspace(-6, 6, 100)\n",
    "y = funcvec(x)\n",
    "plt.plot(x, y);"
   ]
  },
  {
   "cell_type": "markdown",
   "metadata": {},
   "source": [
    "Back now to the problem of flow around a clinder. Contours of the stream function represent stream lines around the cylinder. To make a contour plot, the function to be contoured needs to be evaluated on a grid of points. The grid of points and an array with the values of the stream function at these points can be passed to a contouring routine to create a contour plot. To create a grid of points, use the function meshgrid which takes as input an array of x values and an array of y values, and returns a grid of x values and a grid of y values. For example, to have 5 points in the  𝑥 -direction from -1 to +1, and 3 points in y-direction from 0 to 10:"
   ]
  },
  {
   "cell_type": "code",
   "execution_count": 272,
   "metadata": {},
   "outputs": [
    {
     "name": "stdout",
     "output_type": "stream",
     "text": [
      "x values\n",
      "[[-1.  -0.5  0.   0.5  1. ]\n",
      " [-1.  -0.5  0.   0.5  1. ]\n",
      " [-1.  -0.5  0.   0.5  1. ]]\n",
      "y values\n",
      "[[ 0.  0.  0.  0.  0.]\n",
      " [ 5.  5.  5.  5.  5.]\n",
      " [10. 10. 10. 10. 10.]]\n"
     ]
    }
   ],
   "source": [
    "x,y = np.meshgrid(np.linspace(-1, 1, 5), np.linspace(0, 10, 3)) \n",
    "print('x values')\n",
    "print(x)\n",
    "print('y values')\n",
    "print(y)"
   ]
  },
  {
   "cell_type": "markdown",
   "metadata": {},
   "source": [
    "### Exercise 9, <a name=\"back3\"></a>Contour plot for flow around a cylinder\n",
    "Evaluate the function for the stream function around a cylinder with radius 1.5 on a grid of 100 by 100 points, where `x` varies from -4 to +4, and `y` varies from -3 to 3; use $U=1$. Evaluate the stream function on the entire grid (you need to create a vectorized version of the function you wrote to compute the stream function). Then use the `np.contour` function to create a contour plot (find out how by reading the help of the `contour` function or go to [this demo](http://matplotlib.org/examples/pylab_examples/contour_demo.html)) of the `matplotlib` gallery). You need to use the command `plt.axis('equal')`, so that the scales along the axes are equal and the circle looks like a circle rather than an ellipse. Finally, you may want to add a nice circular patch using the `fill` command and specifying a bunch of $x$ and $y$ values around the circumference of the cylinder."
   ]
  },
  {
   "cell_type": "code",
   "execution_count": 331,
   "metadata": {},
   "outputs": [
    {
     "data": {
      "text/plain": [
       "(-4.0, 4.0, -3.0, 3.0)"
      ]
     },
     "execution_count": 331,
     "metadata": {},
     "output_type": "execute_result"
    },
    {
     "data": {
      "image/png": "[encoded data removed]",
      "text/plain": [
       "<Figure size 432x288 with 1 Axes>"
      ]
     },
     "metadata": {
      "needs_background": "light"
     },
     "output_type": "display_data"
    }
   ],
   "source": [
    "x = np.linspace(-4,4,100)\n",
    "y = np.linspace(-3,3,100)\n",
    "\n",
    "x,y = np.meshgrid(x,y)\n",
    "\n",
    "vecstream = np.vectorize(streamfunc)\n",
    "\n",
    "#R = 1.5, U =1\n",
    "\n",
    "z = vecstream(x,y,1,1.5)\n",
    "\n",
    "plt.contour(x,y,z)\n",
    "plt.axis('equal')\n"
   ]
  },
  {
   "cell_type": "markdown",
   "metadata": {},
   "source": [
    "### Return multiple *things*\n",
    "An assignment can assign values to multiple variables in one statement, for example"
   ]
  },
  {
   "cell_type": "code",
   "execution_count": null,
   "metadata": {},
   "outputs": [],
   "source": [
    "a, b = 4, 3\n",
    "print('a:', a)\n",
    "print('b:', b)\n",
    "\n",
    "a, b, c = 27, np.arange(4), 'hello'\n",
    "print('a:', a)\n",
    "print('b:', b)\n",
    "print('c:', c)\n",
    "\n",
    "d, e, f = np.arange(0, 11, 5)\n",
    "print('d:', d)\n",
    "print('e:', e)\n",
    "print('f:', f)"
   ]
  },
  {
   "cell_type": "markdown",
   "metadata": {},
   "source": [
    "Similarly, a function may return one value or one array. Or a function may return multiple values, multiple arrays, or whatever the programmer decides to return (including nothing, of course). When multiple things are returned, they are returned as a tuple. They can be stored as a tuple, or, if the user knows how many things are returned, they can be stored in individual variables right away, as in the example below."
   ]
  },
  {
   "cell_type": "code",
   "execution_count": 302,
   "metadata": {},
   "outputs": [
    {
     "name": "stdout",
     "output_type": "stream",
     "text": [
      "<class 'tuple'>\n",
      "[100.   4.   4.   4.   4.]\n",
      "a: 33\n",
      "b: [100.   4.   4.   4.   4.]\n",
      "c: this works great!\n"
     ]
    }
   ],
   "source": [
    "def newfunc():\n",
    "    dump = 4 * np.ones(5)\n",
    "    dump[0] = 100\n",
    "    return 33, dump, 'this works great!'\n",
    "\n",
    "test = newfunc()\n",
    "print(type(test))\n",
    "print(test[1]) \n",
    "\n",
    "a, b, c = newfunc()\n",
    "print('a:', a)\n",
    "print('b:', b)\n",
    "print('c:', c)"
   ]
  },
  {
   "cell_type": "markdown",
   "metadata": {},
   "source": [
    "### Exercise 10, <a name=\"back4\"></a>Streamplot of flow around a cylinder\n",
    "The radial and tangential components of the velocity vector $\\vec{v}=(v_r,v_\\theta)$ for inviscid fluid flow around a cylinder are given by\n",
    "\n",
    "$\\begin{split}\n",
    "v_r&=U(1-R^2/r^2)\\cos(\\theta) \\qquad r\\ge R \\\\\n",
    "v_\\theta&=-U(1+R^2/r^2)\\sin(\\theta) \\qquad r\\ge R\n",
    "\\end{split}$\n",
    "\n",
    "and is zero otherwise. The $x$ and $y$ components of the velocity vector may be obtained from the radial and tangential components as\n",
    "\n",
    "$\\begin{split}\n",
    "v_x&=v_r\\cos(\\theta) - v_\\theta\\sin(\\theta) \\\\\n",
    "v_y &= v_r\\sin(\\theta) + v_\\theta\\cos(\\theta) \n",
    "\\end{split}$\n",
    "\n",
    "Write a function that returns the $x$ and $y$ components of the velocity vector for fluid flow around a cylinder with $R=1.5$ and $U=2$. \n",
    "Test your function by making sure that at $(x,y) = (2,3)$ the velocity vector is $(v_x,v_y)=(2.1331, -0.3195)$.\n",
    "Compute the $x$ and $y$ components of the velocity vector (vectorization won't help here, as your function returns two values, so you need a double loop) on a grid of 50 by 50 points where `x` varies from -4 to +4, and `y` varies from -3 to 3. Create a stream plot using the cool function `plt.streamplot`, which takes four arguments: `x`, `y`, `vx`, `vy`."
   ]
  },
  {
   "cell_type": "code",
   "execution_count": 332,
   "metadata": {},
   "outputs": [
    {
     "data": {
      "text/plain": [
       "<matplotlib.streamplot.StreamplotSet at 0x1b003187310>"
      ]
     },
     "execution_count": 332,
     "metadata": {},
     "output_type": "execute_result"
    },
    {
     "data": {
      "image/png": "[encoded data removed]",
      "text/plain": [
       "<Figure size 432x288 with 1 Axes>"
      ]
     },
     "metadata": {
      "needs_background": "light"
     },
     "output_type": "display_data"
    }
   ],
   "source": [
    "#R = 1.5, U = 2\n",
    "def streamplot(x,y,U,R):\n",
    "    o = np.arctan2(y,x)\n",
    "    r = np.sqrt((x**2)+(y**2))\n",
    "    \n",
    "    vr = U*(1-(R**2/r**2))*np.cos(o)\n",
    "    vo = -U*(1+(R**2/r**2))*np.sin(o)\n",
    "    \n",
    "    vx = (vr*np.cos(o))-(vo*np.sin(o))\n",
    "    vy = (vr*np.sin(o))+(vo*np.cos(o))\n",
    "    \n",
    "    return vx,vy\n",
    "\n",
    "x = np.linspace(-4,4,50)\n",
    "y = np.linspace(-3,3,50)\n",
    "\n",
    "x,y = np.meshgrid(x,y)\n",
    "\n",
    "velox, veloy = streamplot(x,y,2,1.5)\n",
    "\n",
    "plt.streamplot(x,y,velox,veloy)"
   ]
  },
  {
   "cell_type": "markdown",
   "metadata": {},
   "source": [
    "### Exercise 11, <a name=\"back5\"></a>Derivative of a function\n",
    "The function `func`, which we wrote earlier in this notebook, implements the following function\n",
    "\n",
    "$f(x)= \\cos(x) \\qquad x <0$\n",
    "\n",
    "$f(x) = \\exp(-x) \\qquad x \\ge 0$\n",
    "\n",
    "Derive an analytic expression (by hand) for the first derivative of $f(x)$ and implement it in a Python function. Test your function by comparing its output to a numerical derivative using a central difference scheme \n",
    "\n",
    "$\\frac{\\text{d}f}{\\text{d}x}\\approx \\frac{f(x+d)-f(x-d)}{2d}$\n",
    "\n",
    "where $d$ is a small number. Test your function for both $x<0$ and $x>0$."
   ]
  },
  {
   "cell_type": "code",
   "execution_count": 356,
   "metadata": {},
   "outputs": [
    {
     "name": "stdout",
     "output_type": "stream",
     "text": [
      "Analytical Derivative is -1.0\n",
      "Central Difference Scheme is -1.0000001666666813\n"
     ]
    }
   ],
   "source": [
    "def deriv(x,d):\n",
    "    if x < 0:\n",
    "        der = -np.sin(x)\n",
    "        cdsder = ((np.cos(x+d)-np.cos(x-d))/(2*d))\n",
    "    else:\n",
    "        der = -np.exp(-x)\n",
    "        cdsder = (np.exp(-x-d)-np.exp(-x+d))/(2*d)\n",
    "    return der,cdsder\n",
    "\n",
    "analyticder, cdsderiv = deriv(0,0.001)\n",
    "\n",
    "print('Analytical Derivative is', analyticder)\n",
    "print('Central Difference Scheme is', cdsderiv)"
   ]
  },
  {
   "cell_type": "code",
   "execution_count": null,
   "metadata": {},
   "outputs": [],
   "source": []
  }
 ],
 "metadata": {
  "kernelspec": {
   "display_name": "Python 3",
   "language": "python",
   "name": "python3"
  },
  "language_info": {
   "codemirror_mode": {
    "name": "ipython",
    "version": 3
   },
   "file_extension": ".py",
   "mimetype": "text/x-python",
   "name": "python",
   "nbconvert_exporter": "python",
   "pygments_lexer": "ipython3",
   "version": "3.8.3"
  },
  "latex_envs": {
   "LaTeX_envs_menu_present": true,
   "autoclose": false,
   "autocomplete": true,
   "bibliofile": "biblio.bib",
   "cite_by": "apalike",
   "current_citInitial": 1,
   "eqLabelWithNumbers": true,
   "eqNumInitial": 1,
   "hotkeys": {
    "equation": "Ctrl-E",
    "itemize": "Ctrl-I"
   },
   "labels_anchors": false,
   "latex_user_defs": false,
   "report_style_numbering": false,
   "user_envs_cfg": false
  },
  "varInspector": {
   "cols": {
    "lenName": 16,
    "lenType": 16,
    "lenVar": 40
   },
   "kernels_config": {
    "python": {
     "delete_cmd_postfix": "",
     "delete_cmd_prefix": "del ",
     "library": "var_list.py",
     "varRefreshCmd": "print(var_dic_list())"
    },
    "r": {
     "delete_cmd_postfix": ") ",
     "delete_cmd_prefix": "rm(",
     "library": "var_list.r",
     "varRefreshCmd": "cat(var_dic_list()) "
    }
   },
   "types_to_exclude": [
    "module",
    "function",
    "builtin_function_or_method",
    "instance",
    "_Feature"
   ],
   "window_display": false
  },
  "widgets": {
   "state": {},
   "version": "1.1.2"
  }
 },
 "nbformat": 4,
 "nbformat_minor": 4
}
