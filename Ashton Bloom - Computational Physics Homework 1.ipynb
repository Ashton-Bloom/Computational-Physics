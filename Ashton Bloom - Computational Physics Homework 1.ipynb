{
 "cells": [
  {
   "cell_type": "markdown",
   "metadata": {},
   "source": [
    "# Ashton Bloom - Computational Physics - HW 1\n",
    "\n",
    "### Exercise 2.2: Altitude of a satellite"
   ]
  },
  {
   "cell_type": "code",
   "execution_count": 51,
   "metadata": {},
   "outputs": [
    {
     "name": "stdout",
     "output_type": "stream",
     "text": [
      "Enter the number of seconds it takes to orbit the Earth: 100\n",
      "The altitude of the satellite above the Earth is: 459122.3446876864 Meters\n"
     ]
    }
   ],
   "source": [
    "from math import pi\n",
    "\n",
    "G = 6.67e-11\n",
    "M = 5.97e24\n",
    "R = 6371\n",
    "T = float(input(\"Enter the number of seconds it takes to orbit the Earth: \"))\n",
    "\n",
    "h = ((G*M*(T**2))/(4*(pi**2)))**(1/3) - R\n",
    "\n",
    "print (\"The altitude of the satellite above the Earth is:\",h, \"Meters\")"
   ]
  },
  {
   "cell_type": "code",
   "execution_count": 50,
   "metadata": {},
   "outputs": [
    {
     "name": "stdout",
     "output_type": "stream",
     "text": [
      "The altitude of a satellite that orbits Earth everyday is: 42226909.90630111 Meters\n",
      "The altitude of a satellite that orbits Earth every 90 minutes is: 6650321.355498997 Meters\n",
      "The altitude of a satellite that orbits Earth every 45 minutes is: 4189439.832315313 Meters\n"
     ]
    }
   ],
   "source": [
    "T = 86400\n",
    "h = ((G*M*(T**2))/(4*(pi**2)))**(1/3) - R\n",
    "print (\"The altitude of a satellite that orbits Earth everyday is:\",h, \"Meters\")\n",
    "T = 5400\n",
    "h = ((G*M*(T**2))/(4*(pi**2)))**(1/3) - R\n",
    "print (\"The altitude of a satellite that orbits Earth every 90 minutes is:\",h, \"Meters\")\n",
    "T = 2700\n",
    "h = ((G*M*(T**2))/(4*(pi**2)))**(1/3) - R\n",
    "print (\"The altitude of a satellite that orbits Earth every 45 minutes is:\",h, \"Meters\")\n"
   ]
  },
  {
   "cell_type": "markdown",
   "metadata": {},
   "source": [
    "We can conclude from these last three calculations that the quicker you want to orbit the Earth, the closer you have to be to the surface. Which makes sense when you think about rotational physics and the how the closer you are to the axis of rotation, the faster you rotate."
   ]
  },
  {
   "cell_type": "markdown",
   "metadata": {},
   "source": [
    "### Exercise 2.5: Quantum Potential Step"
   ]
  },
  {
   "cell_type": "code",
   "execution_count": 46,
   "metadata": {
    "scrolled": true
   },
   "outputs": [
    {
     "name": "stdout",
     "output_type": "stream",
     "text": [
      "The transmission probability is:  0.7301261363877615\n",
      "The reflection probability is:  0.26987386361223825\n",
      "To check calculations, add T and R:  0.9999999999999998\n"
     ]
    }
   ],
   "source": [
    "from math import sqrt\n",
    "\n",
    "m = 9.11e-31\n",
    "E = 10\n",
    "V = 9\n",
    "hbar = 6.5821e-16\n",
    "\n",
    "K1 = sqrt(2*m*E)/hbar\n",
    "K2 = sqrt(2*m*(E-V))/hbar\n",
    "\n",
    "T = (4*K1*K2)/((K1+K2)**2)\n",
    "R = ((K1-K2)/(K1+K2))**2\n",
    "\n",
    "print(\"The transmission probability is: \",T)\n",
    "print(\"The reflection probability is: \",R)\n",
    "print(\"To check calculations, add T and R: \", T+R)"
   ]
  },
  {
   "cell_type": "markdown",
   "metadata": {},
   "source": [
    "Since the Transmission and Reflection probability approximately adds to 1, we can conclude that the calculations done are correct."
   ]
  },
  {
   "cell_type": "markdown",
   "metadata": {},
   "source": [
    "### Exercise 2.8: Suppose arrarys A and B are defined as follows"
   ]
  },
  {
   "cell_type": "markdown",
   "metadata": {},
   "source": [
    "Upon executing the code the following code using arrays:\n",
    "\n",
    "print(b/a+1) - The program will divide each data point of \"b\" by the corresponding data point in \"a\" and then add one.\n",
    "\n",
    "print(b/(a+1)) - The program will divide each data point of \"b\" by the corresponding data point in \"a\" plus one.\n",
    "\n",
    "print(1/a) - The program will divide 1 by each data point of \"a\", as long as that data point is nonzero.\n"
   ]
  },
  {
   "cell_type": "code",
   "execution_count": 49,
   "metadata": {},
   "outputs": [
    {
     "name": "stdout",
     "output_type": "stream",
     "text": [
      "[3. 3. 3. 3.]\n",
      "[1.         1.33333333 1.5        1.6       ]\n",
      "[1.         0.5        0.33333333 0.25      ]\n"
     ]
    }
   ],
   "source": [
    "import numpy as np\n",
    "\n",
    "a = np.array([1,2,3,4],int)\n",
    "b = np.array([2,4,6,8],int)\n",
    "\n",
    "print(b/a+1)\n",
    "print(b/(a+1))\n",
    "print(1/a)"
   ]
  },
  {
   "cell_type": "markdown",
   "metadata": {},
   "source": [
    "As we can see from the following executed code, our predictions were correct."
   ]
  },
  {
   "cell_type": "markdown",
   "metadata": {},
   "source": [
    "### Exercise 2.11: Binomial coefficients"
   ]
  },
  {
   "cell_type": "code",
   "execution_count": 28,
   "metadata": {},
   "outputs": [
    {
     "name": "stdout",
     "output_type": "stream",
     "text": [
      "The binomial coeffcient calculation for n = 1 and k = 0 is: 1\n",
      "\n",
      "Pascal's nontriangle triangle:\n",
      "1 \n",
      "1 1 \n",
      "1 2 1 \n",
      "1 3 3 1 \n",
      "1 4 6 4 1 \n",
      "1 5 10 10 5 1 \n",
      "1 6 15 20 15 6 1 \n",
      "1 7 21 35 35 21 7 1 \n",
      "1 8 28 56 70 56 28 8 1 \n",
      "1 9 36 84 126 126 84 36 9 1 \n",
      "1 10 45 120 210 252 210 120 45 10 1 \n",
      "1 11 55 165 330 462 462 330 165 55 11 1 \n",
      "1 12 66 220 495 792 924 792 495 220 66 12 1 \n",
      "1 13 78 286 715 1287 1716 1716 1287 715 286 78 13 1 \n",
      "1 14 91 364 1001 2002 3003 3432 3003 2002 1001 364 91 14 1 \n",
      "1 15 105 455 1365 3003 5005 6435 6435 5005 3003 1365 455 105 15 1 \n",
      "1 16 120 560 1820 4368 8008 11440 12870 11440 8008 4368 1820 560 120 16 1 \n",
      "1 17 136 680 2380 6188 12376 19448 24310 24310 19448 12376 6188 2380 680 136 17 1 \n",
      "1 18 153 816 3060 8568 18564 31824 43758 48620 43758 31824 18564 8568 3060 816 153 18 1 \n",
      "1 19 171 969 3876 11628 27132 50388 75582 92378 92378 75582 50388 27132 11628 3876 969 171 19 1 \n",
      "\n",
      "Probability that coin is flipped heads exaclty 60 times: 0.010843866711637987\n",
      "\n",
      "Probability that a coin is flipped heads 60 or more times: 0.028443966820490392\n"
     ]
    }
   ],
   "source": [
    "import math\n",
    "\n",
    "def binomial(n,k):\n",
    "    return math.factorial(n)//(math.factorial(k)*(math.factorial(n - k)))\n",
    "\n",
    "n = 1\n",
    "k = 0\n",
    "\n",
    "print(\"The binomial coeffcient calculation for n =\", n , \"and k =\", k, \"is:\",binomial(n,k))\n",
    "print(\"\")\n",
    "\n",
    "def pascal(o):\n",
    "    for line in range(0,o):\n",
    "        for inte in range(0, line+1):\n",
    "            print(binomial(line,inte), \"\", end=\"\")\n",
    "        print()\n",
    "\n",
    "o = 20\n",
    "print(\"Pascal's nontriangle triangle:\")\n",
    "pascal(o)\n",
    "print(\"\")\n",
    "\n",
    "n = 100\n",
    "h = 60\n",
    "print(\"Probability that coin is flipped heads exaclty 60 times:\", binomial(n,h)/2**n)\n",
    "print(\"\")\n",
    "\n",
    "probability = 0\n",
    "for h in range(h,n+1):\n",
    "    probability += binomial(n,h)/(2**n)\n",
    "print(\"Probability that a coin is flipped heads 60 or more times:\", probability)\n"
   ]
  },
  {
   "cell_type": "markdown",
   "metadata": {},
   "source": [
    "We can see that when K = 0, it outputs 1\n",
    "\n",
    "While it may not be formatted like an actual triangle, we can see the the numbers the code prints is that of Pascal's triangle.\n",
    "\n",
    "By calculating the binomial coefficient with n = 100 and h = 60, we can see how many different combinations there are that will get us at least 60 heads, so all we have to do is then divide by 2^n power. We come up with this by recognizing that each flip has \"2\" possibilities, heads or tails, and so we raise 2^n power; which represents each and every combination of heads and tails we could possibly have. Meaing our calculation is how many possible configurations of at least 60 heads (binomial coefficient) and then every possible head/tail combination. Which then gives us the answer of 0.0108...\n",
    "\n",
    "To get the probability of the at least 60 or more heads, we apply the same logic that we just used to calculate exactly 60 heads. To do this, we do the exact same calculations (binomial coefficient divided by all possible head/tail combinations) then add all the end results into a variable called probability. If we analyze this result, we can see that you have a greater chance of getting 60 or more heads than exactly 60 heads. Which makes sense since 60 or more is a less restrictive constraint than exactly 60."
   ]
  },
  {
   "cell_type": "markdown",
   "metadata": {},
   "source": [
    "### Exercise 2.13: Recursion"
   ]
  },
  {
   "cell_type": "code",
   "execution_count": 34,
   "metadata": {},
   "outputs": [
    {
     "name": "stdout",
     "output_type": "stream",
     "text": [
      "The Catalan number using n = 100 is: 8.965199470901317e+56\n",
      "The Greatest Common Denominator using m = 108 and n = 192 is: 12\n"
     ]
    }
   ],
   "source": [
    "def catalan(n):\n",
    "    if n==0:\n",
    "        return 1\n",
    "    else:\n",
    "        return ((4*n-2)/(n+1))*catalan(n-1)\n",
    "\n",
    "n = 100\n",
    "\n",
    "print(\"The Catalan number using n =\", n, \"is:\", catalan(n))\n",
    "\n",
    "def gcd(m,n):\n",
    "    if n == 0:\n",
    "        return m\n",
    "    else:\n",
    "        return gcd(n,m%n)\n",
    "m = 108\n",
    "n = 192\n",
    "\n",
    "print(\"The Greatest Common Denominator using m =\", m, \"and n =\", n, \"is:\", gcd(m,n))"
   ]
  },
  {
   "cell_type": "markdown",
   "metadata": {},
   "source": [
    "Since, the code does not error and the formula for calculating the catalan number using the given equation works without the \"catalan(n-1)\" and gives a different answer with it, I am assuming that calculation for the catalan n = 100 is correct.\n",
    "\n",
    "We can very quickly check the greatest common denominator calculation using something easy such as \"4\" and \"8\" and it outputs a GCD of \"4\" which we know is correct, so we can safely assume that the calculation for 108 and 192 is correct."
   ]
  }
 ],
 "metadata": {
  "kernelspec": {
   "display_name": "Python 3",
   "language": "python",
   "name": "python3"
  },
  "language_info": {
   "codemirror_mode": {
    "name": "ipython",
    "version": 3
   },
   "file_extension": ".py",
   "mimetype": "text/x-python",
   "name": "python",
   "nbconvert_exporter": "python",
   "pygments_lexer": "ipython3",
   "version": "3.8.3"
  }
 },
 "nbformat": 4,
 "nbformat_minor": 4
}
